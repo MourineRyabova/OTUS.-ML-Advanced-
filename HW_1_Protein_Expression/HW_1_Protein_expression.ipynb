{
 "cells": [
  {
   "cell_type": "markdown",
   "metadata": {},
   "source": [
    "# Задание - Предсказание уровня экспрессии белка"
   ]
  },
  {
   "cell_type": "code",
   "execution_count": 32,
   "metadata": {},
   "outputs": [],
   "source": [
    "import pandas as pd\n",
    "import numpy as np\n",
    "\n",
    "import networkx as nx\n",
    "import igraph as ig\n",
    "\n",
    "import matplotlib.pyplot as plt\n",
    "import seaborn as sns\n",
    "\n",
    "#from sklearn.preprocessing import StandardScaler\n",
    "from sklearn.linear_model import LinearRegression\n",
    "from sklearn.ensemble import RandomForestRegressor\n",
    "from sklearn.metrics import root_mean_squared_error, r2_score, mean_absolute_error"
   ]
  },
  {
   "cell_type": "markdown",
   "metadata": {},
   "source": [
    "<img src='https://www.researchgate.net/publication/313504607/figure/fig3/AS:459880453677066@1486655453033/Protein-protein-interaction-PPI-network-of-DEGs-by-STRING-The-interaction-score-was.png'>\n",
    "\n",
    "\n"
   ]
  },
  {
   "cell_type": "markdown",
   "metadata": {},
   "source": [
    "<div class=\"alert alert-info\">\n",
    "<b>Про биологию</b>\n",
    "    \n",
    "Экспрессия — процесс, в ходе которого наследственная информация от гена (последовательности нуклеотидов ДНК) преобразуется в функциональный продукт — белок. Уровнем экспрессии называют - количество белка, производящегося в этом процессе. Чем выше экспрессия белка, тем большее количество этого белка появляется в клетках человека. \n",
    "    \n",
    "    "
   ]
  },
  {
   "cell_type": "markdown",
   "metadata": {},
   "source": [
    "<div class=\"alert alert-info\">    \n",
    "<b>Важность задачи</b>\n",
    "    \n",
    "Существует множество причин необходимости в знании уровня экспресии белка. Например - это позволяет ученым разрабатывать лекарственные средства и оптимизировать их разработку. Теперь вам предстоит побыть в роли биоинформатика и помочь науке!\n",
    "    \n",
    "</div>"
   ]
  },
  {
   "cell_type": "markdown",
   "metadata": {},
   "source": [
    "\n",
    "<div class=\"alert alert-info\">\n",
    "<b>Про Датасет</b>\n",
    "    \n",
    "Датасет представляет собой граф взаимойдествия белков. Где узлы это белки, взаимодействие между белками это ребро. \n",
    "\n",
    "Для каждого белка известен уровень его экспрессии. Ниже приведен список ребер `edges`. Информация по экспрессии белков, разбитая на `train` и `test`.\n",
    "   \n",
    "    \n",
    "</div>"
   ]
  },
  {
   "cell_type": "code",
   "execution_count": 33,
   "metadata": {},
   "outputs": [
    {
     "data": {
      "text/html": [
       "<div>\n",
       "<style scoped>\n",
       "    .dataframe tbody tr th:only-of-type {\n",
       "        vertical-align: middle;\n",
       "    }\n",
       "\n",
       "    .dataframe tbody tr th {\n",
       "        vertical-align: top;\n",
       "    }\n",
       "\n",
       "    .dataframe thead th {\n",
       "        text-align: right;\n",
       "    }\n",
       "</style>\n",
       "<table border=\"1\" class=\"dataframe\">\n",
       "  <thead>\n",
       "    <tr style=\"text-align: right;\">\n",
       "      <th></th>\n",
       "      <th>node_1</th>\n",
       "      <th>node_2</th>\n",
       "    </tr>\n",
       "  </thead>\n",
       "  <tbody>\n",
       "    <tr>\n",
       "      <th>0</th>\n",
       "      <td>344</td>\n",
       "      <td>50</td>\n",
       "    </tr>\n",
       "    <tr>\n",
       "      <th>1</th>\n",
       "      <td>344</td>\n",
       "      <td>153</td>\n",
       "    </tr>\n",
       "    <tr>\n",
       "      <th>2</th>\n",
       "      <td>344</td>\n",
       "      <td>532</td>\n",
       "    </tr>\n",
       "    <tr>\n",
       "      <th>3</th>\n",
       "      <td>344</td>\n",
       "      <td>679</td>\n",
       "    </tr>\n",
       "    <tr>\n",
       "      <th>4</th>\n",
       "      <td>344</td>\n",
       "      <td>986</td>\n",
       "    </tr>\n",
       "  </tbody>\n",
       "</table>\n",
       "</div>"
      ],
      "text/plain": [
       "   node_1  node_2\n",
       "0     344      50\n",
       "1     344     153\n",
       "2     344     532\n",
       "3     344     679\n",
       "4     344     986"
      ]
     },
     "execution_count": 33,
     "metadata": {},
     "output_type": "execute_result"
    }
   ],
   "source": [
    "#Список ребер графа \n",
    "\n",
    "edges = pd.read_csv(\"https://raw.githubusercontent.com/a-milenkin/Otus_HW_protein_expression/main/edges.csv\", sep=\",\") # Подгрузим данные\n",
    "edges.head()"
   ]
  },
  {
   "cell_type": "code",
   "execution_count": 34,
   "metadata": {},
   "outputs": [
    {
     "data": {
      "text/html": [
       "<div>\n",
       "<style scoped>\n",
       "    .dataframe tbody tr th:only-of-type {\n",
       "        vertical-align: middle;\n",
       "    }\n",
       "\n",
       "    .dataframe tbody tr th {\n",
       "        vertical-align: top;\n",
       "    }\n",
       "\n",
       "    .dataframe thead th {\n",
       "        text-align: right;\n",
       "    }\n",
       "</style>\n",
       "<table border=\"1\" class=\"dataframe\">\n",
       "  <thead>\n",
       "    <tr style=\"text-align: right;\">\n",
       "      <th></th>\n",
       "      <th>target</th>\n",
       "      <th>node</th>\n",
       "    </tr>\n",
       "  </thead>\n",
       "  <tbody>\n",
       "    <tr>\n",
       "      <th>0</th>\n",
       "      <td>0.251968</td>\n",
       "      <td>11142</td>\n",
       "    </tr>\n",
       "    <tr>\n",
       "      <th>1</th>\n",
       "      <td>0.689541</td>\n",
       "      <td>2243</td>\n",
       "    </tr>\n",
       "    <tr>\n",
       "      <th>2</th>\n",
       "      <td>0.678245</td>\n",
       "      <td>15514</td>\n",
       "    </tr>\n",
       "    <tr>\n",
       "      <th>3</th>\n",
       "      <td>0.272500</td>\n",
       "      <td>20944</td>\n",
       "    </tr>\n",
       "    <tr>\n",
       "      <th>4</th>\n",
       "      <td>0.248888</td>\n",
       "      <td>8721</td>\n",
       "    </tr>\n",
       "  </tbody>\n",
       "</table>\n",
       "</div>"
      ],
      "text/plain": [
       "     target   node\n",
       "0  0.251968  11142\n",
       "1  0.689541   2243\n",
       "2  0.678245  15514\n",
       "3  0.272500  20944\n",
       "4  0.248888   8721"
      ]
     },
     "execution_count": 34,
     "metadata": {},
     "output_type": "execute_result"
    }
   ],
   "source": [
    "#Подгрузим тренирочную выборку\n",
    "train = pd.read_csv(\"https://raw.githubusercontent.com/a-milenkin/Otus_HW_protein_expression/main/train.csv\", sep=\",\") # Подгрузим данные\n",
    "train.head()"
   ]
  },
  {
   "cell_type": "code",
   "execution_count": 35,
   "metadata": {},
   "outputs": [
    {
     "data": {
      "text/html": [
       "<div>\n",
       "<style scoped>\n",
       "    .dataframe tbody tr th:only-of-type {\n",
       "        vertical-align: middle;\n",
       "    }\n",
       "\n",
       "    .dataframe tbody tr th {\n",
       "        vertical-align: top;\n",
       "    }\n",
       "\n",
       "    .dataframe thead th {\n",
       "        text-align: right;\n",
       "    }\n",
       "</style>\n",
       "<table border=\"1\" class=\"dataframe\">\n",
       "  <thead>\n",
       "    <tr style=\"text-align: right;\">\n",
       "      <th></th>\n",
       "      <th>target</th>\n",
       "      <th>node</th>\n",
       "    </tr>\n",
       "  </thead>\n",
       "  <tbody>\n",
       "    <tr>\n",
       "      <th>0</th>\n",
       "      <td>0.279231</td>\n",
       "      <td>817</td>\n",
       "    </tr>\n",
       "    <tr>\n",
       "      <th>1</th>\n",
       "      <td>0.380795</td>\n",
       "      <td>9574</td>\n",
       "    </tr>\n",
       "    <tr>\n",
       "      <th>2</th>\n",
       "      <td>0.686527</td>\n",
       "      <td>1607</td>\n",
       "    </tr>\n",
       "    <tr>\n",
       "      <th>3</th>\n",
       "      <td>0.303594</td>\n",
       "      <td>4782</td>\n",
       "    </tr>\n",
       "    <tr>\n",
       "      <th>4</th>\n",
       "      <td>0.367374</td>\n",
       "      <td>24125</td>\n",
       "    </tr>\n",
       "  </tbody>\n",
       "</table>\n",
       "</div>"
      ],
      "text/plain": [
       "     target   node\n",
       "0  0.279231    817\n",
       "1  0.380795   9574\n",
       "2  0.686527   1607\n",
       "3  0.303594   4782\n",
       "4  0.367374  24125"
      ]
     },
     "execution_count": 35,
     "metadata": {},
     "output_type": "execute_result"
    }
   ],
   "source": [
    "# Подгрузим отложенную выборку для валидации\n",
    "test = pd.read_csv(\"https://raw.githubusercontent.com/a-milenkin/Otus_HW_protein_expression/main/test.csv\", sep=\",\")\n",
    "test.head()"
   ]
  },
  {
   "cell_type": "markdown",
   "metadata": {},
   "source": [
    "<div class=\"alert alert-info\">\n",
    "<b>Про Задачу</b>\n",
    "    \n",
    "Вам предлагается предсказать экспрессию белков (`target`) по приведенным данным для отложенной выборки. Ответы в отложенной выборке `test` даны вам для самостоятельной валидации.\n",
    "\n",
    "\n",
    "    \n",
    "   \n",
    "    "
   ]
  },
  {
   "cell_type": "markdown",
   "metadata": {},
   "source": [
    "<div class=\"alert alert-info\">\n",
    "<b>Замечание и комментарии</b>\n",
    "    \n",
    "    \n",
    "\n",
    "По ряду причин датасет был упрощен так, чтобы выполнялись следующие условия:\n",
    "* у графа одна компонента связанности. \n",
    "* удалены слишком крупные хабы\n",
    "* плотность связей графа уменьшена\n",
    "* решить задачу можно классическими ML подходами\n",
    "    \n",
    "   "
   ]
  },
  {
   "cell_type": "markdown",
   "metadata": {},
   "source": [
    "<div class=\"alert alert-info\">\n",
    "<b>Оценка результатов</b>\n",
    "    \n",
    "\n",
    "\n",
    "Оценка точности модели будет оцениваться по метрике MSE на отложенной выборке `test`\n",
    "        \n",
    "</div>"
   ]
  },
  {
   "cell_type": "markdown",
   "metadata": {},
   "source": [
    "<div class=\"alert alert-info\">\n",
    "<b>Автор задачи</b>\n",
    "\n",
    "По всем дополнительным вопросами писать Александру Миленькину\n",
    "* Телеграмм: Alerin75infskin\n",
    "* Почта: milenkin.aa@phystech.edu\n",
    "        \n",
    "</div>"
   ]
  },
  {
   "cell_type": "markdown",
   "metadata": {},
   "source": [
    "# Решение"
   ]
  },
  {
   "cell_type": "markdown",
   "metadata": {},
   "source": [
    "Этапы исследования:\n",
    "1. Проводим исследовательский анализ данных\n",
    "    - визуализация (подвесила комп и показала паучье гнездо)\n",
    "    - построение гистограммы распределения степеней вершин графа. Выяснили, что в основном у вершин до 200 связей\n",
    "    - Построили график зависимости целевой переменной (уровня экспрессии белка) от степени вершины. Увидели сильную прямую корреляцию между этими показателями. Возникает гипотеза: лучше всего предскажет уровень экспрессии модель линейной регрессии.\n",
    "2. Проверяем гипотезу\n",
    "    - Строим модель линейной регрессии на одном признаке - степени вершин графа\n",
    "    - Строим модель регрессии \"Случайный лес\" на одном признаке\n",
    "    - Добавляем к данным еще несколько признаков (близость, связность, коэффициент кластеризации)\n",
    "    - Строим модель регрессии \"Случайный лес\" на расширенном датасете\n",
    "    - Строим модель линейной регрессии на расширенном датасете\n",
    "3. Сравниваем результаты\n",
    "\n",
    "Спойлер. Лучше всего отработала модель линейной регрессии с дополнительными прризнаками (RMSE = 0,106): \n",
    "\n",
    "|     | Метрика | Random Forest Regression | Linear Regression | RF extended features | LR extended features |\n",
    "|-----|---------|-------------------------|-------------------|----------------------|----------------------|\n",
    "| 0   | MAE     | 0.0627               | 0.0637          | 0.054             | 0.056             |\n",
    "| 1   | RMSE    | 0.135               | 0.129          | 0.122             | 0.106             |\n",
    "| 2   | R2      | 0.976              | 0.978          | 0.981             | 0.985 |"
   ]
  },
  {
   "cell_type": "markdown",
   "metadata": {},
   "source": [
    "## EDA"
   ]
  },
  {
   "cell_type": "markdown",
   "metadata": {},
   "source": [
    "### Визуализация графа\n",
    "\n",
    "Можно визуализировать сам граф, но в нашем случае он очень велик, и визуализация не даст никаких инсайтов."
   ]
  },
  {
   "cell_type": "code",
   "execution_count": 36,
   "metadata": {},
   "outputs": [
    {
     "name": "stdout",
     "output_type": "stream",
     "text": [
      "Количество значений node1 - 9889, количество значений node2 - 9862 \n"
     ]
    }
   ],
   "source": [
    "print(f'Количество значений node1 - {edges['node_1'].nunique()}, количество значений node2 - {edges['node_2'].nunique()} ')"
   ]
  },
  {
   "cell_type": "code",
   "execution_count": 37,
   "metadata": {},
   "outputs": [
    {
     "name": "stdout",
     "output_type": "stream",
     "text": [
      "Graph with 10000 nodes and 594174 edges\n"
     ]
    }
   ],
   "source": [
    "G = nx.from_pandas_edgelist(edges, source='node_1', target='node_2')\n",
    "print(G)"
   ]
  },
  {
   "cell_type": "code",
   "execution_count": 38,
   "metadata": {},
   "outputs": [],
   "source": [
    "# Визуализация графа\n",
    "# plt.figure(figsize=(12, 12))\n",
    "# pos = nx.spring_layout(G)  # Расположение узлов\n",
    "# nx.draw(G, pos, with_labels=True, node_size=500, node_color=\"lightblue\", font_size=10, font_color=\"black\", font_weight=\"bold\", edge_color=\"gray\")\n",
    "# plt.title(\"Граф взаимодействия белков\")\n",
    "# plt.show()"
   ]
  },
  {
   "cell_type": "markdown",
   "metadata": {},
   "source": [
    "### График степеней вершин графа"
   ]
  },
  {
   "cell_type": "markdown",
   "metadata": {},
   "source": [
    "На графике можно увидеть распределение количества связей у вершин графа. В основном вершины имеют до 200 связей."
   ]
  },
  {
   "cell_type": "code",
   "execution_count": 39,
   "metadata": {},
   "outputs": [
    {
     "data": {
      "image/png": "[encoded data removed]",
      "text/plain": [
       "<Figure size 1200x600 with 1 Axes>"
      ]
     },
     "metadata": {},
     "output_type": "display_data"
    }
   ],
   "source": [
    "degree_list = G.degree()\n",
    "nodes = [node for node, degree in degree_list]\n",
    "degrees = [degree for node, degree in degree_list]\n",
    "\n",
    "degree_df = pd.DataFrame({'node': nodes, 'degree': degrees})\n",
    "\n",
    "plt.figure(figsize=(12, 6))\n",
    "plt.hist(degrees, bins=range(1, max(degrees) + 1), align='left', color='skyblue')\n",
    "plt.title(\"Распределение степеней вершин графа\")\n",
    "plt.xlabel(\"Степень вершины\")\n",
    "plt.ylabel(\"Количество узлов\")\n",
    "x_ticks = range(0, max(degrees), 200)\n",
    "plt.xticks(x_ticks)\n",
    "plt.grid(axis='y')\n",
    "\n",
    "plt.show()"
   ]
  },
  {
   "cell_type": "markdown",
   "metadata": {},
   "source": [
    "### Оценка зависимости целевого признака (уровня экспрессии белка) и количества связей"
   ]
  },
  {
   "cell_type": "code",
   "execution_count": 40,
   "metadata": {},
   "outputs": [
    {
     "name": "stdout",
     "output_type": "stream",
     "text": [
      "Пример датасета train\n"
     ]
    },
    {
     "data": {
      "text/html": [
       "<div>\n",
       "<style scoped>\n",
       "    .dataframe tbody tr th:only-of-type {\n",
       "        vertical-align: middle;\n",
       "    }\n",
       "\n",
       "    .dataframe tbody tr th {\n",
       "        vertical-align: top;\n",
       "    }\n",
       "\n",
       "    .dataframe thead th {\n",
       "        text-align: right;\n",
       "    }\n",
       "</style>\n",
       "<table border=\"1\" class=\"dataframe\">\n",
       "  <thead>\n",
       "    <tr style=\"text-align: right;\">\n",
       "      <th></th>\n",
       "      <th>target</th>\n",
       "      <th>node</th>\n",
       "      <th>degree</th>\n",
       "    </tr>\n",
       "  </thead>\n",
       "  <tbody>\n",
       "    <tr>\n",
       "      <th>0</th>\n",
       "      <td>0.251968</td>\n",
       "      <td>11142</td>\n",
       "      <td>50</td>\n",
       "    </tr>\n",
       "    <tr>\n",
       "      <th>1</th>\n",
       "      <td>0.689541</td>\n",
       "      <td>2243</td>\n",
       "      <td>190</td>\n",
       "    </tr>\n",
       "    <tr>\n",
       "      <th>2</th>\n",
       "      <td>0.678245</td>\n",
       "      <td>15514</td>\n",
       "      <td>172</td>\n",
       "    </tr>\n",
       "    <tr>\n",
       "      <th>3</th>\n",
       "      <td>0.272500</td>\n",
       "      <td>20944</td>\n",
       "      <td>61</td>\n",
       "    </tr>\n",
       "    <tr>\n",
       "      <th>4</th>\n",
       "      <td>0.248888</td>\n",
       "      <td>8721</td>\n",
       "      <td>62</td>\n",
       "    </tr>\n",
       "  </tbody>\n",
       "</table>\n",
       "</div>"
      ],
      "text/plain": [
       "     target   node  degree\n",
       "0  0.251968  11142      50\n",
       "1  0.689541   2243     190\n",
       "2  0.678245  15514     172\n",
       "3  0.272500  20944      61\n",
       "4  0.248888   8721      62"
      ]
     },
     "metadata": {},
     "output_type": "display_data"
    },
    {
     "name": "stdout",
     "output_type": "stream",
     "text": [
      "Пример датасета test\n"
     ]
    },
    {
     "data": {
      "text/html": [
       "<div>\n",
       "<style scoped>\n",
       "    .dataframe tbody tr th:only-of-type {\n",
       "        vertical-align: middle;\n",
       "    }\n",
       "\n",
       "    .dataframe tbody tr th {\n",
       "        vertical-align: top;\n",
       "    }\n",
       "\n",
       "    .dataframe thead th {\n",
       "        text-align: right;\n",
       "    }\n",
       "</style>\n",
       "<table border=\"1\" class=\"dataframe\">\n",
       "  <thead>\n",
       "    <tr style=\"text-align: right;\">\n",
       "      <th></th>\n",
       "      <th>target</th>\n",
       "      <th>node</th>\n",
       "      <th>degree</th>\n",
       "    </tr>\n",
       "  </thead>\n",
       "  <tbody>\n",
       "    <tr>\n",
       "      <th>0</th>\n",
       "      <td>0.279231</td>\n",
       "      <td>817</td>\n",
       "      <td>70</td>\n",
       "    </tr>\n",
       "    <tr>\n",
       "      <th>1</th>\n",
       "      <td>0.380795</td>\n",
       "      <td>9574</td>\n",
       "      <td>92</td>\n",
       "    </tr>\n",
       "    <tr>\n",
       "      <th>2</th>\n",
       "      <td>0.686527</td>\n",
       "      <td>1607</td>\n",
       "      <td>176</td>\n",
       "    </tr>\n",
       "    <tr>\n",
       "      <th>3</th>\n",
       "      <td>0.303594</td>\n",
       "      <td>4782</td>\n",
       "      <td>83</td>\n",
       "    </tr>\n",
       "    <tr>\n",
       "      <th>4</th>\n",
       "      <td>0.367374</td>\n",
       "      <td>24125</td>\n",
       "      <td>79</td>\n",
       "    </tr>\n",
       "  </tbody>\n",
       "</table>\n",
       "</div>"
      ],
      "text/plain": [
       "     target   node  degree\n",
       "0  0.279231    817      70\n",
       "1  0.380795   9574      92\n",
       "2  0.686527   1607     176\n",
       "3  0.303594   4782      83\n",
       "4  0.367374  24125      79"
      ]
     },
     "metadata": {},
     "output_type": "display_data"
    }
   ],
   "source": [
    "train_degree_data = train.merge(degree_df, how='left')\n",
    "\n",
    "test_degree_data = test.merge(degree_df, how='left')\n",
    "\n",
    "print('Пример датасета train')\n",
    "display(train_degree_data.head())\n",
    "\n",
    "print('Пример датасета test')\n",
    "display(test_degree_data.head())"
   ]
  },
  {
   "cell_type": "code",
   "execution_count": 41,
   "metadata": {},
   "outputs": [
    {
     "data": {
      "image/png": "[encoded data removed]",
      "text/plain": [
       "<Figure size 1200x600 with 1 Axes>"
      ]
     },
     "metadata": {},
     "output_type": "display_data"
    }
   ],
   "source": [
    "# Построение графика\n",
    "plt.figure(figsize=(12, 6))\n",
    "\n",
    "sns.scatterplot(data=train_degree_data, x='degree', y='target', hue='target', size='degree', sizes=(20, 200), palette='viridis', alpha=0.7, edgecolor='w')\n",
    "\n",
    "plt.title(\"Зависимость уровня экспрессии белка и количества связей\")\n",
    "plt.xlabel(\"Количество связей\")\n",
    "plt.ylabel(\"Уровень экспрессии белка\")\n",
    "plt.grid(axis='y')\n",
    "\n",
    "# Добавление линии регрессии\n",
    "sns.regplot(data=train_degree_data, x='degree', y='target', scatter=False, color='red', line_kws={\"linestyle\":\"--\"})\n",
    "\n",
    "plt.legend(title='Уровень экспрессии', bbox_to_anchor=(1.05, 1), loc='upper left')\n",
    "plt.tight_layout()\n",
    "\n",
    "# Шаг 6: Показать график\n",
    "plt.show()"
   ]
  },
  {
   "cell_type": "markdown",
   "metadata": {},
   "source": [
    "На графике видна прямая линейная корреляция количества связей и уровня экспрессии."
   ]
  },
  {
   "cell_type": "markdown",
   "metadata": {},
   "source": [
    "## Построение модели предсказания уровня белка для тестовой выборки"
   ]
  },
  {
   "cell_type": "markdown",
   "metadata": {},
   "source": [
    "### Linear Regression"
   ]
  },
  {
   "cell_type": "code",
   "execution_count": 42,
   "metadata": {},
   "outputs": [
    {
     "name": "stdout",
     "output_type": "stream",
     "text": [
      "Коэффициент линейной регрессии: 0.0044, свободный член регрессии: 0.013\n",
      "Средняя абсолютная ошибка (MAE): 0.0637\n",
      "Корень из MSE: 0.1293\n",
      "Доля объясненной дисперсии:0.9778\n"
     ]
    },
    {
     "data": {
      "text/html": [
       "<div>\n",
       "<style scoped>\n",
       "    .dataframe tbody tr th:only-of-type {\n",
       "        vertical-align: middle;\n",
       "    }\n",
       "\n",
       "    .dataframe tbody tr th {\n",
       "        vertical-align: top;\n",
       "    }\n",
       "\n",
       "    .dataframe thead th {\n",
       "        text-align: right;\n",
       "    }\n",
       "</style>\n",
       "<table border=\"1\" class=\"dataframe\">\n",
       "  <thead>\n",
       "    <tr style=\"text-align: right;\">\n",
       "      <th></th>\n",
       "      <th>target</th>\n",
       "      <th>node</th>\n",
       "      <th>degree</th>\n",
       "      <th>pred</th>\n",
       "    </tr>\n",
       "  </thead>\n",
       "  <tbody>\n",
       "    <tr>\n",
       "      <th>0</th>\n",
       "      <td>0.279231</td>\n",
       "      <td>817</td>\n",
       "      <td>70</td>\n",
       "      <td>0.322772</td>\n",
       "    </tr>\n",
       "    <tr>\n",
       "      <th>1</th>\n",
       "      <td>0.380795</td>\n",
       "      <td>9574</td>\n",
       "      <td>92</td>\n",
       "      <td>0.420143</td>\n",
       "    </tr>\n",
       "    <tr>\n",
       "      <th>2</th>\n",
       "      <td>0.686527</td>\n",
       "      <td>1607</td>\n",
       "      <td>176</td>\n",
       "      <td>0.791923</td>\n",
       "    </tr>\n",
       "    <tr>\n",
       "      <th>3</th>\n",
       "      <td>0.303594</td>\n",
       "      <td>4782</td>\n",
       "      <td>83</td>\n",
       "      <td>0.380310</td>\n",
       "    </tr>\n",
       "    <tr>\n",
       "      <th>4</th>\n",
       "      <td>0.367374</td>\n",
       "      <td>24125</td>\n",
       "      <td>79</td>\n",
       "      <td>0.362606</td>\n",
       "    </tr>\n",
       "  </tbody>\n",
       "</table>\n",
       "</div>"
      ],
      "text/plain": [
       "     target   node  degree      pred\n",
       "0  0.279231    817      70  0.322772\n",
       "1  0.380795   9574      92  0.420143\n",
       "2  0.686527   1607     176  0.791923\n",
       "3  0.303594   4782      83  0.380310\n",
       "4  0.367374  24125      79  0.362606"
      ]
     },
     "execution_count": 42,
     "metadata": {},
     "output_type": "execute_result"
    }
   ],
   "source": [
    "X_train = train_degree_data['degree'].values.reshape(-1, 1)\n",
    "y_train = train_degree_data['target'].values\n",
    "\n",
    "X_test = test_degree_data['degree'].values.reshape(-1, 1)\n",
    "y_test = test_degree_data['target'].values\n",
    "\n",
    "#Создание и обучение модели\n",
    "model = LinearRegression()\n",
    "model.fit(X_train, y_train)\n",
    "\n",
    "print(f'Коэффициент линейной регрессии: {round(model.coef_[0], 4)}, свободный член регрессии: {round(model.intercept_, 4)}')\n",
    "\n",
    "#Предсказание значений на тестовой выборке\n",
    "y_pred= model.predict(X_test)\n",
    "\n",
    "#Оценка качества модели\n",
    "rmse = root_mean_squared_error(y_test, y_pred)\n",
    "mae = mean_absolute_error(y_test, y_pred)\n",
    "r2 = r2_score(y_test, y_pred)\n",
    "\n",
    "print(f'Средняя абсолютная ошибка (MAE): {round(mae,4)}')\n",
    "print(f'Корень из MSE: {round(rmse, 4)}')\n",
    "print(f'Доля объясненной дисперсии:{round(r2,4)}')\n",
    "\n",
    "test_degree_data['pred'] = y_pred\n",
    "test_degree_data.head()"
   ]
  },
  {
   "cell_type": "markdown",
   "metadata": {},
   "source": [
    "### Random Forest Regression"
   ]
  },
  {
   "cell_type": "code",
   "execution_count": 43,
   "metadata": {},
   "outputs": [
    {
     "name": "stdout",
     "output_type": "stream",
     "text": [
      "Средняя абсолютная ошибка (MAE): 0.0627\n",
      "Корень из MSE: 0.1365\n",
      "Доля объясненной дисперсии:0.9752\n"
     ]
    },
    {
     "data": {
      "text/html": [
       "<div>\n",
       "<style scoped>\n",
       "    .dataframe tbody tr th:only-of-type {\n",
       "        vertical-align: middle;\n",
       "    }\n",
       "\n",
       "    .dataframe tbody tr th {\n",
       "        vertical-align: top;\n",
       "    }\n",
       "\n",
       "    .dataframe thead th {\n",
       "        text-align: right;\n",
       "    }\n",
       "</style>\n",
       "<table border=\"1\" class=\"dataframe\">\n",
       "  <thead>\n",
       "    <tr style=\"text-align: right;\">\n",
       "      <th></th>\n",
       "      <th>target</th>\n",
       "      <th>node</th>\n",
       "      <th>degree</th>\n",
       "      <th>pred</th>\n",
       "    </tr>\n",
       "  </thead>\n",
       "  <tbody>\n",
       "    <tr>\n",
       "      <th>0</th>\n",
       "      <td>0.279231</td>\n",
       "      <td>817</td>\n",
       "      <td>70</td>\n",
       "      <td>0.317308</td>\n",
       "    </tr>\n",
       "    <tr>\n",
       "      <th>1</th>\n",
       "      <td>0.380795</td>\n",
       "      <td>9574</td>\n",
       "      <td>92</td>\n",
       "      <td>0.403924</td>\n",
       "    </tr>\n",
       "    <tr>\n",
       "      <th>2</th>\n",
       "      <td>0.686527</td>\n",
       "      <td>1607</td>\n",
       "      <td>176</td>\n",
       "      <td>0.770615</td>\n",
       "    </tr>\n",
       "    <tr>\n",
       "      <th>3</th>\n",
       "      <td>0.303594</td>\n",
       "      <td>4782</td>\n",
       "      <td>83</td>\n",
       "      <td>0.365613</td>\n",
       "    </tr>\n",
       "    <tr>\n",
       "      <th>4</th>\n",
       "      <td>0.367374</td>\n",
       "      <td>24125</td>\n",
       "      <td>79</td>\n",
       "      <td>0.352655</td>\n",
       "    </tr>\n",
       "  </tbody>\n",
       "</table>\n",
       "</div>"
      ],
      "text/plain": [
       "     target   node  degree      pred\n",
       "0  0.279231    817      70  0.317308\n",
       "1  0.380795   9574      92  0.403924\n",
       "2  0.686527   1607     176  0.770615\n",
       "3  0.303594   4782      83  0.365613\n",
       "4  0.367374  24125      79  0.352655"
      ]
     },
     "execution_count": 43,
     "metadata": {},
     "output_type": "execute_result"
    }
   ],
   "source": [
    "X_train = train_degree_data['degree'].values.reshape(-1, 1)\n",
    "y_train = train_degree_data['target'].values\n",
    "\n",
    "X_test = test_degree_data['degree'].values.reshape(-1, 1)\n",
    "y_test = test_degree_data['target'].values\n",
    "\n",
    "#Создание и обучение модели\n",
    "model = RandomForestRegressor()\n",
    "model.fit(X_train, y_train)\n",
    "\n",
    "#Предсказание значений на тестовой выборке\n",
    "y_pred= model.predict(X_test)\n",
    "\n",
    "#Оценка качества модели\n",
    "rmse_rf = root_mean_squared_error(y_test, y_pred)\n",
    "mae_rf = mean_absolute_error(y_test, y_pred)\n",
    "r2_rf = r2_score(y_test, y_pred)\n",
    "\n",
    "print(f'Средняя абсолютная ошибка (MAE): {round(mae_rf,4)}')\n",
    "print(f'Корень из MSE: {round(rmse_rf, 4)}')\n",
    "print(f'Доля объясненной дисперсии:{round(r2_rf,4)}')\n",
    "\n",
    "test_degree_data['pred'] = y_pred\n",
    "test_degree_data.head()"
   ]
  },
  {
   "cell_type": "markdown",
   "metadata": {},
   "source": [
    "### Обогащение модели другими признаками"
   ]
  },
  {
   "cell_type": "markdown",
   "metadata": {},
   "source": [
    "Библиотека networkx очень медленно обрабатывает имеющийся граф. Для дальнейшей работы будем использовать библиотеку igraph. Для уточнения результата предсказания добавим в модель другие признаки графа:\n",
    "- Closeness (мера центральности в сети, которая вычисляется как сумма длин кратчайших путей между узлом и всеми другими узлами графа)\n",
    "- Betweenness (мера в графах, которая показывает, насколько часто рассматриваемая вершина является «перевалочным пунктом» при переходах от одной вершины графа до любой другой)\n",
    "- Clustering_coefficient (степень взаимодействия между собой ближайших соседей узла, то есть вероятность того, что ближайшие соседи узла будут связаны не только с ним, но и между собой)"
   ]
  },
  {
   "cell_type": "code",
   "execution_count": 44,
   "metadata": {},
   "outputs": [
    {
     "name": "stdout",
     "output_type": "stream",
     "text": [
      "Graph with 10000 nodes and 594174 edges\n"
     ]
    },
    {
     "data": {
      "text/html": [
       "<div>\n",
       "<style scoped>\n",
       "    .dataframe tbody tr th:only-of-type {\n",
       "        vertical-align: middle;\n",
       "    }\n",
       "\n",
       "    .dataframe tbody tr th {\n",
       "        vertical-align: top;\n",
       "    }\n",
       "\n",
       "    .dataframe thead th {\n",
       "        text-align: right;\n",
       "    }\n",
       "</style>\n",
       "<table border=\"1\" class=\"dataframe\">\n",
       "  <thead>\n",
       "    <tr style=\"text-align: right;\">\n",
       "      <th></th>\n",
       "      <th>node</th>\n",
       "      <th>degree</th>\n",
       "      <th>closeness</th>\n",
       "      <th>betweenness</th>\n",
       "      <th>clustering_coefficient</th>\n",
       "    </tr>\n",
       "  </thead>\n",
       "  <tbody>\n",
       "    <tr>\n",
       "      <th>0</th>\n",
       "      <td>344</td>\n",
       "      <td>148</td>\n",
       "      <td>0.422970</td>\n",
       "      <td>2873.619211</td>\n",
       "      <td>0.015720</td>\n",
       "    </tr>\n",
       "    <tr>\n",
       "      <th>1</th>\n",
       "      <td>50</td>\n",
       "      <td>394</td>\n",
       "      <td>0.503829</td>\n",
       "      <td>33347.632319</td>\n",
       "      <td>0.042947</td>\n",
       "    </tr>\n",
       "    <tr>\n",
       "      <th>2</th>\n",
       "      <td>153</td>\n",
       "      <td>1946</td>\n",
       "      <td>0.553746</td>\n",
       "      <td>591465.658162</td>\n",
       "      <td>0.028256</td>\n",
       "    </tr>\n",
       "    <tr>\n",
       "      <th>3</th>\n",
       "      <td>532</td>\n",
       "      <td>124</td>\n",
       "      <td>0.465265</td>\n",
       "      <td>3219.856197</td>\n",
       "      <td>0.054812</td>\n",
       "    </tr>\n",
       "    <tr>\n",
       "      <th>4</th>\n",
       "      <td>679</td>\n",
       "      <td>337</td>\n",
       "      <td>0.497562</td>\n",
       "      <td>21171.413699</td>\n",
       "      <td>0.047548</td>\n",
       "    </tr>\n",
       "  </tbody>\n",
       "</table>\n",
       "</div>"
      ],
      "text/plain": [
       "   node  degree  closeness    betweenness  clustering_coefficient\n",
       "0   344     148   0.422970    2873.619211                0.015720\n",
       "1    50     394   0.503829   33347.632319                0.042947\n",
       "2   153    1946   0.553746  591465.658162                0.028256\n",
       "3   532     124   0.465265    3219.856197                0.054812\n",
       "4   679     337   0.497562   21171.413699                0.047548"
      ]
     },
     "metadata": {},
     "output_type": "display_data"
    }
   ],
   "source": [
    "g = ig.Graph.from_networkx(G)\n",
    "#print(g)\n",
    "print(G)\n",
    "g = ig.Graph.DataFrame(edges, directed=False)\n",
    "\n",
    "nodes = list(G.nodes())\n",
    "g.vs['name'] = nodes\n",
    "\n",
    "features = pd.DataFrame()\n",
    "\n",
    "features['node'] = nodes\n",
    "features['degree'] = g.degree(nodes)\n",
    "features['closeness'] = g.closeness(nodes)\n",
    "features['betweenness'] = g.betweenness(nodes)\n",
    "features['clustering_coefficient'] = g.transitivity_local_undirected(nodes)  # Для неориентированных графов\n",
    "\n",
    "# Отображение результатов\n",
    "display(features.head())"
   ]
  },
  {
   "cell_type": "code",
   "execution_count": 45,
   "metadata": {},
   "outputs": [
    {
     "name": "stdout",
     "output_type": "stream",
     "text": [
      "Пример датасета train с дополнительными признаками\n"
     ]
    },
    {
     "data": {
      "text/html": [
       "<div>\n",
       "<style scoped>\n",
       "    .dataframe tbody tr th:only-of-type {\n",
       "        vertical-align: middle;\n",
       "    }\n",
       "\n",
       "    .dataframe tbody tr th {\n",
       "        vertical-align: top;\n",
       "    }\n",
       "\n",
       "    .dataframe thead th {\n",
       "        text-align: right;\n",
       "    }\n",
       "</style>\n",
       "<table border=\"1\" class=\"dataframe\">\n",
       "  <thead>\n",
       "    <tr style=\"text-align: right;\">\n",
       "      <th></th>\n",
       "      <th>target</th>\n",
       "      <th>node</th>\n",
       "      <th>degree</th>\n",
       "      <th>closeness</th>\n",
       "      <th>betweenness</th>\n",
       "      <th>clustering_coefficient</th>\n",
       "    </tr>\n",
       "  </thead>\n",
       "  <tbody>\n",
       "    <tr>\n",
       "      <th>0</th>\n",
       "      <td>0.251968</td>\n",
       "      <td>11142</td>\n",
       "      <td>50</td>\n",
       "      <td>0.458628</td>\n",
       "      <td>771.329982</td>\n",
       "      <td>0.118367</td>\n",
       "    </tr>\n",
       "    <tr>\n",
       "      <th>1</th>\n",
       "      <td>0.689541</td>\n",
       "      <td>2243</td>\n",
       "      <td>190</td>\n",
       "      <td>0.481833</td>\n",
       "      <td>6493.880787</td>\n",
       "      <td>0.056475</td>\n",
       "    </tr>\n",
       "    <tr>\n",
       "      <th>2</th>\n",
       "      <td>0.678245</td>\n",
       "      <td>15514</td>\n",
       "      <td>172</td>\n",
       "      <td>0.484072</td>\n",
       "      <td>5308.655624</td>\n",
       "      <td>0.063171</td>\n",
       "    </tr>\n",
       "    <tr>\n",
       "      <th>3</th>\n",
       "      <td>0.272500</td>\n",
       "      <td>20944</td>\n",
       "      <td>61</td>\n",
       "      <td>0.432763</td>\n",
       "      <td>738.986041</td>\n",
       "      <td>0.053552</td>\n",
       "    </tr>\n",
       "    <tr>\n",
       "      <th>4</th>\n",
       "      <td>0.248888</td>\n",
       "      <td>8721</td>\n",
       "      <td>62</td>\n",
       "      <td>0.427948</td>\n",
       "      <td>1304.434478</td>\n",
       "      <td>0.052882</td>\n",
       "    </tr>\n",
       "  </tbody>\n",
       "</table>\n",
       "</div>"
      ],
      "text/plain": [
       "     target   node  degree  closeness  betweenness  clustering_coefficient\n",
       "0  0.251968  11142      50   0.458628   771.329982                0.118367\n",
       "1  0.689541   2243     190   0.481833  6493.880787                0.056475\n",
       "2  0.678245  15514     172   0.484072  5308.655624                0.063171\n",
       "3  0.272500  20944      61   0.432763   738.986041                0.053552\n",
       "4  0.248888   8721      62   0.427948  1304.434478                0.052882"
      ]
     },
     "metadata": {},
     "output_type": "display_data"
    },
    {
     "name": "stdout",
     "output_type": "stream",
     "text": [
      "Пример датасета test с дополнительными признаками\n"
     ]
    },
    {
     "data": {
      "text/html": [
       "<div>\n",
       "<style scoped>\n",
       "    .dataframe tbody tr th:only-of-type {\n",
       "        vertical-align: middle;\n",
       "    }\n",
       "\n",
       "    .dataframe tbody tr th {\n",
       "        vertical-align: top;\n",
       "    }\n",
       "\n",
       "    .dataframe thead th {\n",
       "        text-align: right;\n",
       "    }\n",
       "</style>\n",
       "<table border=\"1\" class=\"dataframe\">\n",
       "  <thead>\n",
       "    <tr style=\"text-align: right;\">\n",
       "      <th></th>\n",
       "      <th>target</th>\n",
       "      <th>node</th>\n",
       "      <th>degree</th>\n",
       "      <th>closeness</th>\n",
       "      <th>betweenness</th>\n",
       "      <th>clustering_coefficient</th>\n",
       "    </tr>\n",
       "  </thead>\n",
       "  <tbody>\n",
       "    <tr>\n",
       "      <th>0</th>\n",
       "      <td>0.279231</td>\n",
       "      <td>817</td>\n",
       "      <td>70</td>\n",
       "      <td>0.416694</td>\n",
       "      <td>729.408206</td>\n",
       "      <td>0.025259</td>\n",
       "    </tr>\n",
       "    <tr>\n",
       "      <th>1</th>\n",
       "      <td>0.380795</td>\n",
       "      <td>9574</td>\n",
       "      <td>92</td>\n",
       "      <td>0.464098</td>\n",
       "      <td>1712.753147</td>\n",
       "      <td>0.048017</td>\n",
       "    </tr>\n",
       "    <tr>\n",
       "      <th>2</th>\n",
       "      <td>0.686527</td>\n",
       "      <td>1607</td>\n",
       "      <td>176</td>\n",
       "      <td>0.463625</td>\n",
       "      <td>4181.056116</td>\n",
       "      <td>0.020455</td>\n",
       "    </tr>\n",
       "    <tr>\n",
       "      <th>3</th>\n",
       "      <td>0.303594</td>\n",
       "      <td>4782</td>\n",
       "      <td>83</td>\n",
       "      <td>0.465286</td>\n",
       "      <td>1724.773397</td>\n",
       "      <td>0.062298</td>\n",
       "    </tr>\n",
       "    <tr>\n",
       "      <th>4</th>\n",
       "      <td>0.367374</td>\n",
       "      <td>24125</td>\n",
       "      <td>79</td>\n",
       "      <td>0.422541</td>\n",
       "      <td>1343.849707</td>\n",
       "      <td>0.014930</td>\n",
       "    </tr>\n",
       "  </tbody>\n",
       "</table>\n",
       "</div>"
      ],
      "text/plain": [
       "     target   node  degree  closeness  betweenness  clustering_coefficient\n",
       "0  0.279231    817      70   0.416694   729.408206                0.025259\n",
       "1  0.380795   9574      92   0.464098  1712.753147                0.048017\n",
       "2  0.686527   1607     176   0.463625  4181.056116                0.020455\n",
       "3  0.303594   4782      83   0.465286  1724.773397                0.062298\n",
       "4  0.367374  24125      79   0.422541  1343.849707                0.014930"
      ]
     },
     "metadata": {},
     "output_type": "display_data"
    }
   ],
   "source": [
    "train_extended = train.merge(features, how='left')\n",
    "\n",
    "test_extended = test.merge(features, how='left')\n",
    "\n",
    "print('Пример датасета train с дополнительными признаками')\n",
    "display(train_extended.head())\n",
    "\n",
    "print('Пример датасета test с дополнительными признаками')\n",
    "display(test_extended.head())"
   ]
  },
  {
   "cell_type": "markdown",
   "metadata": {},
   "source": [
    "### Предсказание на расширенном датасете с помощью Random Forest"
   ]
  },
  {
   "cell_type": "code",
   "execution_count": 46,
   "metadata": {},
   "outputs": [
    {
     "data": {
      "text/plain": [
       "Index(['target', 'node', 'degree', 'closeness', 'betweenness',\n",
       "       'clustering_coefficient'],\n",
       "      dtype='object')"
      ]
     },
     "execution_count": 46,
     "metadata": {},
     "output_type": "execute_result"
    }
   ],
   "source": [
    "train_extended.columns"
   ]
  },
  {
   "cell_type": "code",
   "execution_count": 47,
   "metadata": {},
   "outputs": [
    {
     "name": "stdout",
     "output_type": "stream",
     "text": [
      "Средняя абсолютная ошибка (MAE) для расширенного датасета с Random Forest: 0.0547\n",
      "Корень из MSE для расширенного датасета с Random Forest: 0.122\n",
      "Доля объясненной дисперсии для расширенного датасета с Random Forest:0.9802\n"
     ]
    },
    {
     "data": {
      "text/html": [
       "<div>\n",
       "<style scoped>\n",
       "    .dataframe tbody tr th:only-of-type {\n",
       "        vertical-align: middle;\n",
       "    }\n",
       "\n",
       "    .dataframe tbody tr th {\n",
       "        vertical-align: top;\n",
       "    }\n",
       "\n",
       "    .dataframe thead th {\n",
       "        text-align: right;\n",
       "    }\n",
       "</style>\n",
       "<table border=\"1\" class=\"dataframe\">\n",
       "  <thead>\n",
       "    <tr style=\"text-align: right;\">\n",
       "      <th></th>\n",
       "      <th>target</th>\n",
       "      <th>node</th>\n",
       "      <th>degree</th>\n",
       "      <th>closeness</th>\n",
       "      <th>betweenness</th>\n",
       "      <th>clustering_coefficient</th>\n",
       "      <th>pred</th>\n",
       "    </tr>\n",
       "  </thead>\n",
       "  <tbody>\n",
       "    <tr>\n",
       "      <th>0</th>\n",
       "      <td>0.279231</td>\n",
       "      <td>817</td>\n",
       "      <td>70</td>\n",
       "      <td>0.416694</td>\n",
       "      <td>729.408206</td>\n",
       "      <td>0.025259</td>\n",
       "      <td>0.331671</td>\n",
       "    </tr>\n",
       "    <tr>\n",
       "      <th>1</th>\n",
       "      <td>0.380795</td>\n",
       "      <td>9574</td>\n",
       "      <td>92</td>\n",
       "      <td>0.464098</td>\n",
       "      <td>1712.753147</td>\n",
       "      <td>0.048017</td>\n",
       "      <td>0.403703</td>\n",
       "    </tr>\n",
       "    <tr>\n",
       "      <th>2</th>\n",
       "      <td>0.686527</td>\n",
       "      <td>1607</td>\n",
       "      <td>176</td>\n",
       "      <td>0.463625</td>\n",
       "      <td>4181.056116</td>\n",
       "      <td>0.020455</td>\n",
       "      <td>0.763211</td>\n",
       "    </tr>\n",
       "    <tr>\n",
       "      <th>3</th>\n",
       "      <td>0.303594</td>\n",
       "      <td>4782</td>\n",
       "      <td>83</td>\n",
       "      <td>0.465286</td>\n",
       "      <td>1724.773397</td>\n",
       "      <td>0.062298</td>\n",
       "      <td>0.341980</td>\n",
       "    </tr>\n",
       "    <tr>\n",
       "      <th>4</th>\n",
       "      <td>0.367374</td>\n",
       "      <td>24125</td>\n",
       "      <td>79</td>\n",
       "      <td>0.422541</td>\n",
       "      <td>1343.849707</td>\n",
       "      <td>0.014930</td>\n",
       "      <td>0.372001</td>\n",
       "    </tr>\n",
       "  </tbody>\n",
       "</table>\n",
       "</div>"
      ],
      "text/plain": [
       "     target   node  degree  closeness  betweenness  clustering_coefficient  \\\n",
       "0  0.279231    817      70   0.416694   729.408206                0.025259   \n",
       "1  0.380795   9574      92   0.464098  1712.753147                0.048017   \n",
       "2  0.686527   1607     176   0.463625  4181.056116                0.020455   \n",
       "3  0.303594   4782      83   0.465286  1724.773397                0.062298   \n",
       "4  0.367374  24125      79   0.422541  1343.849707                0.014930   \n",
       "\n",
       "       pred  \n",
       "0  0.331671  \n",
       "1  0.403703  \n",
       "2  0.763211  \n",
       "3  0.341980  \n",
       "4  0.372001  "
      ]
     },
     "execution_count": 47,
     "metadata": {},
     "output_type": "execute_result"
    }
   ],
   "source": [
    "X_train_extended = train_extended[['degree', 'closeness', 'betweenness', 'clustering_coefficient']]\n",
    "y_train_extended = train_extended['target']\n",
    "\n",
    "X_test_extended = test_extended[['degree', 'closeness', 'betweenness', 'clustering_coefficient']]\n",
    "y_test_extended = test_extended['target']\n",
    "\n",
    "# Шкалирование не улучшило результат\n",
    "# scaler = StandardScaler()\n",
    "# X_train_extended = scaler.fit_transform(X_train_extended)\n",
    "# X_test_extended_scaled = scaler.transform(X_test_extended)\n",
    "\n",
    "#Создание и обучение модели\n",
    "model = RandomForestRegressor()\n",
    "model.fit(X_train_extended, y_train_extended)\n",
    "\n",
    "#Предсказание значений на тестовой выборке\n",
    "y_pred_extended = model.predict(X_test_extended)\n",
    "\n",
    "#Оценка качества модели\n",
    "rmse_ext = root_mean_squared_error(y_test_extended, y_pred_extended)\n",
    "mae_ext = mean_absolute_error(y_test_extended, y_pred_extended)\n",
    "r2_ext = r2_score(y_test_extended, y_pred_extended)\n",
    "\n",
    "print(f'Средняя абсолютная ошибка (MAE) для расширенного датасета с Random Forest: {round(mae_ext,4)}')\n",
    "print(f'Корень из MSE для расширенного датасета с Random Forest: {round(rmse_ext, 4)}')\n",
    "print(f'Доля объясненной дисперсии для расширенного датасета с Random Forest:{round(r2_ext,4)}')\n",
    "\n",
    "test_extended['pred'] = y_pred_extended\n",
    "test_extended.head()"
   ]
  },
  {
   "cell_type": "code",
   "execution_count": 48,
   "metadata": {},
   "outputs": [
    {
     "data": {
      "text/html": [
       "<div>\n",
       "<style scoped>\n",
       "    .dataframe tbody tr th:only-of-type {\n",
       "        vertical-align: middle;\n",
       "    }\n",
       "\n",
       "    .dataframe tbody tr th {\n",
       "        vertical-align: top;\n",
       "    }\n",
       "\n",
       "    .dataframe thead th {\n",
       "        text-align: right;\n",
       "    }\n",
       "</style>\n",
       "<table border=\"1\" class=\"dataframe\">\n",
       "  <thead>\n",
       "    <tr style=\"text-align: right;\">\n",
       "      <th></th>\n",
       "      <th>Признак</th>\n",
       "      <th>Важность признака, %</th>\n",
       "    </tr>\n",
       "  </thead>\n",
       "  <tbody>\n",
       "    <tr>\n",
       "      <th>0</th>\n",
       "      <td>degree</td>\n",
       "      <td>80.195795</td>\n",
       "    </tr>\n",
       "    <tr>\n",
       "      <th>2</th>\n",
       "      <td>betweenness</td>\n",
       "      <td>13.371207</td>\n",
       "    </tr>\n",
       "    <tr>\n",
       "      <th>1</th>\n",
       "      <td>closeness</td>\n",
       "      <td>5.895376</td>\n",
       "    </tr>\n",
       "    <tr>\n",
       "      <th>3</th>\n",
       "      <td>clustering_coefficient</td>\n",
       "      <td>0.537622</td>\n",
       "    </tr>\n",
       "  </tbody>\n",
       "</table>\n",
       "</div>"
      ],
      "text/plain": [
       "                  Признак  Важность признака, %\n",
       "0                  degree             80.195795\n",
       "2             betweenness             13.371207\n",
       "1               closeness              5.895376\n",
       "3  clustering_coefficient              0.537622"
      ]
     },
     "metadata": {},
     "output_type": "display_data"
    }
   ],
   "source": [
    "importances = model.feature_importances_\n",
    "feature_names = X_train_extended.columns\n",
    "\n",
    "importance_df = pd.DataFrame({'Признак': feature_names, 'Важность признака, %': importances*100}).sort_values(by='Важность признака, %', ascending=False)\n",
    "display(importance_df)"
   ]
  },
  {
   "cell_type": "markdown",
   "metadata": {},
   "source": [
    "### Предсказание на расширенном датасете с помощью Linear Regression"
   ]
  },
  {
   "cell_type": "code",
   "execution_count": 49,
   "metadata": {},
   "outputs": [
    {
     "name": "stdout",
     "output_type": "stream",
     "text": [
      "Средняя абсолютная ошибка (MAE) для расширенного датасета с Linear Regression: 0.056\n",
      "Корень из MSE для расширенного датасета с Linear Regression: 0.1064\n",
      "Доля объясненной дисперсии для расширенного датасета с Linear Regression:0.9849\n"
     ]
    },
    {
     "data": {
      "text/html": [
       "<div>\n",
       "<style scoped>\n",
       "    .dataframe tbody tr th:only-of-type {\n",
       "        vertical-align: middle;\n",
       "    }\n",
       "\n",
       "    .dataframe tbody tr th {\n",
       "        vertical-align: top;\n",
       "    }\n",
       "\n",
       "    .dataframe thead th {\n",
       "        text-align: right;\n",
       "    }\n",
       "</style>\n",
       "<table border=\"1\" class=\"dataframe\">\n",
       "  <thead>\n",
       "    <tr style=\"text-align: right;\">\n",
       "      <th></th>\n",
       "      <th>target</th>\n",
       "      <th>node</th>\n",
       "      <th>degree</th>\n",
       "      <th>closeness</th>\n",
       "      <th>betweenness</th>\n",
       "      <th>clustering_coefficient</th>\n",
       "      <th>pred</th>\n",
       "    </tr>\n",
       "  </thead>\n",
       "  <tbody>\n",
       "    <tr>\n",
       "      <th>0</th>\n",
       "      <td>0.279231</td>\n",
       "      <td>817</td>\n",
       "      <td>70</td>\n",
       "      <td>0.416694</td>\n",
       "      <td>729.408206</td>\n",
       "      <td>0.025259</td>\n",
       "      <td>0.348368</td>\n",
       "    </tr>\n",
       "    <tr>\n",
       "      <th>1</th>\n",
       "      <td>0.380795</td>\n",
       "      <td>9574</td>\n",
       "      <td>92</td>\n",
       "      <td>0.464098</td>\n",
       "      <td>1712.753147</td>\n",
       "      <td>0.048017</td>\n",
       "      <td>0.412471</td>\n",
       "    </tr>\n",
       "    <tr>\n",
       "      <th>2</th>\n",
       "      <td>0.686527</td>\n",
       "      <td>1607</td>\n",
       "      <td>176</td>\n",
       "      <td>0.463625</td>\n",
       "      <td>4181.056116</td>\n",
       "      <td>0.020455</td>\n",
       "      <td>0.774022</td>\n",
       "    </tr>\n",
       "    <tr>\n",
       "      <th>3</th>\n",
       "      <td>0.303594</td>\n",
       "      <td>4782</td>\n",
       "      <td>83</td>\n",
       "      <td>0.465286</td>\n",
       "      <td>1724.773397</td>\n",
       "      <td>0.062298</td>\n",
       "      <td>0.368439</td>\n",
       "    </tr>\n",
       "    <tr>\n",
       "      <th>4</th>\n",
       "      <td>0.367374</td>\n",
       "      <td>24125</td>\n",
       "      <td>79</td>\n",
       "      <td>0.422541</td>\n",
       "      <td>1343.849707</td>\n",
       "      <td>0.014930</td>\n",
       "      <td>0.389354</td>\n",
       "    </tr>\n",
       "  </tbody>\n",
       "</table>\n",
       "</div>"
      ],
      "text/plain": [
       "     target   node  degree  closeness  betweenness  clustering_coefficient  \\\n",
       "0  0.279231    817      70   0.416694   729.408206                0.025259   \n",
       "1  0.380795   9574      92   0.464098  1712.753147                0.048017   \n",
       "2  0.686527   1607     176   0.463625  4181.056116                0.020455   \n",
       "3  0.303594   4782      83   0.465286  1724.773397                0.062298   \n",
       "4  0.367374  24125      79   0.422541  1343.849707                0.014930   \n",
       "\n",
       "       pred  \n",
       "0  0.348368  \n",
       "1  0.412471  \n",
       "2  0.774022  \n",
       "3  0.368439  \n",
       "4  0.389354  "
      ]
     },
     "execution_count": 49,
     "metadata": {},
     "output_type": "execute_result"
    }
   ],
   "source": [
    "#Создание и обучение модели\n",
    "model = LinearRegression()\n",
    "model.fit(X_train_extended, y_train_extended)\n",
    "\n",
    "#Предсказание значений на тестовой выборке\n",
    "y_pred_extended = model.predict(X_test_extended)\n",
    "\n",
    "#Оценка качества модели\n",
    "rmse_ext_lr = root_mean_squared_error(y_test_extended, y_pred_extended)\n",
    "mae_ext_lr = mean_absolute_error(y_test_extended, y_pred_extended)\n",
    "r2_ext_lr = r2_score(y_test_extended, y_pred_extended)\n",
    "\n",
    "print(f'Средняя абсолютная ошибка (MAE) для расширенного датасета с Linear Regression: {round(mae_ext_lr,4)}')\n",
    "print(f'Корень из MSE для расширенного датасета с Linear Regression: {round(rmse_ext_lr, 4)}')\n",
    "print(f'Доля объясненной дисперсии для расширенного датасета с Linear Regression:{round(r2_ext_lr,4)}')\n",
    "\n",
    "test_extended['pred'] = y_pred_extended\n",
    "test_extended.head()"
   ]
  },
  {
   "cell_type": "code",
   "execution_count": 50,
   "metadata": {},
   "outputs": [
    {
     "data": {
      "text/html": [
       "<div>\n",
       "<style scoped>\n",
       "    .dataframe tbody tr th:only-of-type {\n",
       "        vertical-align: middle;\n",
       "    }\n",
       "\n",
       "    .dataframe tbody tr th {\n",
       "        vertical-align: top;\n",
       "    }\n",
       "\n",
       "    .dataframe thead th {\n",
       "        text-align: right;\n",
       "    }\n",
       "</style>\n",
       "<table border=\"1\" class=\"dataframe\">\n",
       "  <thead>\n",
       "    <tr style=\"text-align: right;\">\n",
       "      <th></th>\n",
       "      <th>Признак</th>\n",
       "      <th>Коэффициент регрессии</th>\n",
       "    </tr>\n",
       "  </thead>\n",
       "  <tbody>\n",
       "    <tr>\n",
       "      <th>0</th>\n",
       "      <td>degree</td>\n",
       "      <td>0.004080</td>\n",
       "    </tr>\n",
       "    <tr>\n",
       "      <th>1</th>\n",
       "      <td>closeness</td>\n",
       "      <td>-0.353250</td>\n",
       "    </tr>\n",
       "    <tr>\n",
       "      <th>2</th>\n",
       "      <td>betweenness</td>\n",
       "      <td>0.000002</td>\n",
       "    </tr>\n",
       "    <tr>\n",
       "      <th>3</th>\n",
       "      <td>clustering_coefficient</td>\n",
       "      <td>-0.484648</td>\n",
       "    </tr>\n",
       "  </tbody>\n",
       "</table>\n",
       "</div>"
      ],
      "text/plain": [
       "                  Признак  Коэффициент регрессии\n",
       "0                  degree               0.004080\n",
       "1               closeness              -0.353250\n",
       "2             betweenness               0.000002\n",
       "3  clustering_coefficient              -0.484648"
      ]
     },
     "metadata": {},
     "output_type": "display_data"
    }
   ],
   "source": [
    "# Шаг 4: Получение коэффициентов\n",
    "coefficients = model.coef_\n",
    "intercept = model.intercept_\n",
    "\n",
    "# Шаг 5: Вывод результатов\n",
    "feature_names = X_train_extended.columns\n",
    "importance_df = pd.DataFrame({\n",
    "    'Признак': feature_names,\n",
    "    'Коэффициент регрессии': coefficients\n",
    "})\n",
    "display(importance_df)"
   ]
  },
  {
   "cell_type": "markdown",
   "metadata": {},
   "source": [
    "## Итоги исследования"
   ]
  },
  {
   "cell_type": "code",
   "execution_count": 51,
   "metadata": {},
   "outputs": [
    {
     "data": {
      "text/html": [
       "<div>\n",
       "<style scoped>\n",
       "    .dataframe tbody tr th:only-of-type {\n",
       "        vertical-align: middle;\n",
       "    }\n",
       "\n",
       "    .dataframe tbody tr th {\n",
       "        vertical-align: top;\n",
       "    }\n",
       "\n",
       "    .dataframe thead th {\n",
       "        text-align: right;\n",
       "    }\n",
       "</style>\n",
       "<table border=\"1\" class=\"dataframe\">\n",
       "  <thead>\n",
       "    <tr style=\"text-align: right;\">\n",
       "      <th></th>\n",
       "      <th>Метрика</th>\n",
       "      <th>Random Forest Regression</th>\n",
       "      <th>Linear Regression</th>\n",
       "      <th>RF extended features</th>\n",
       "      <th>LR extended features</th>\n",
       "    </tr>\n",
       "  </thead>\n",
       "  <tbody>\n",
       "    <tr>\n",
       "      <th>0</th>\n",
       "      <td>MAE</td>\n",
       "      <td>0.063</td>\n",
       "      <td>0.064</td>\n",
       "      <td>0.055</td>\n",
       "      <td>0.056</td>\n",
       "    </tr>\n",
       "    <tr>\n",
       "      <th>1</th>\n",
       "      <td>RMSE</td>\n",
       "      <td>0.137</td>\n",
       "      <td>0.129</td>\n",
       "      <td>0.122</td>\n",
       "      <td>0.106</td>\n",
       "    </tr>\n",
       "    <tr>\n",
       "      <th>2</th>\n",
       "      <td>R2</td>\n",
       "      <td>0.975</td>\n",
       "      <td>0.978</td>\n",
       "      <td>0.980</td>\n",
       "      <td>0.985</td>\n",
       "    </tr>\n",
       "  </tbody>\n",
       "</table>\n",
       "</div>"
      ],
      "text/plain": [
       "  Метрика  Random Forest Regression  Linear Regression  RF extended features  \\\n",
       "0     MAE                     0.063              0.064                 0.055   \n",
       "1    RMSE                     0.137              0.129                 0.122   \n",
       "2      R2                     0.975              0.978                 0.980   \n",
       "\n",
       "   LR extended features  \n",
       "0                 0.056  \n",
       "1                 0.106  \n",
       "2                 0.985  "
      ]
     },
     "metadata": {},
     "output_type": "display_data"
    }
   ],
   "source": [
    "result = pd.DataFrame()\n",
    "result['Метрика'] = ['MAE', 'RMSE', 'R2']\n",
    "result['Random Forest Regression'] = [mae_rf, rmse_rf, r2_rf]\n",
    "result['Linear Regression'] = [mae, rmse, r2]\n",
    "result['RF extended features'] = [mae_ext, rmse_ext, r2_ext]\n",
    "result['LR extended features'] = [mae_ext_lr, rmse_ext_lr, r2_ext_lr]\n",
    "\n",
    "display(result.round(3))"
   ]
  },
  {
   "cell_type": "markdown",
   "metadata": {},
   "source": [
    "Сравнение метрик показывает, что лучше всего отрабатывает предсказание **модель линейной регрессии с дополнительными признаками**. При этом, судя по коэффициентам регрессии, degree стал не самым важным признаком для модели."
   ]
  }
 ],
 "metadata": {
  "kernelspec": {
   "display_name": "Python 3",
   "language": "python",
   "name": "python3"
  },
  "language_info": {
   "codemirror_mode": {
    "name": "ipython",
    "version": 3
   },
   "file_extension": ".py",
   "mimetype": "text/x-python",
   "name": "python",
   "nbconvert_exporter": "python",
   "pygments_lexer": "ipython3",
   "version": "3.12.2"
  },
  "toc": {
   "base_numbering": 1,
   "nav_menu": {},
   "number_sections": true,
   "sideBar": true,
   "skip_h1_title": false,
   "title_cell": "Table of Contents",
   "title_sidebar": "Contents",
   "toc_cell": false,
   "toc_position": {},
   "toc_section_display": true,
   "toc_window_display": false
  }
 },
 "nbformat": 4,
 "nbformat_minor": 4
}
